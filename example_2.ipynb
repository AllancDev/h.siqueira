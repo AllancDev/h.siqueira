{
 "cells": [
  {
   "cell_type": "code",
   "execution_count": 166,
   "id": "82b45329-2635-479a-8be9-fb800249b29d",
   "metadata": {},
   "outputs": [],
   "source": [
    "## Import libs\n",
    "import networkx as nx\n",
    "import random"
   ]
  },
  {
   "cell_type": "code",
   "execution_count": 167,
   "id": "76946379-8788-4876-ac0d-1d6bc11c0cc0",
   "metadata": {},
   "outputs": [
    {
     "name": "stdin",
     "output_type": "stream",
     "text": [
      "Digite a quantidade de nós: 10\n"
     ]
    }
   ],
   "source": [
    "## Define number\n",
    "n = int(input(\"Digite a quantidade de nós:\"))\n",
    "\n",
    "node = range(0, n)"
   ]
  },
  {
   "cell_type": "code",
   "execution_count": 168,
   "id": "cc0acbde-763c-4e1b-97e8-b3deff26b440",
   "metadata": {},
   "outputs": [],
   "source": [
    "## Set Array\n",
    "arr = []\n",
    "\n",
    "for i in node:\n",
    "    for a in node:\n",
    "        if i == a:\n",
    "            arr.append([i, a, 0])\n",
    "        else: \n",
    "            arr.append([i, a, random.randint(1, n)])"
   ]
  },
  {
   "cell_type": "code",
   "execution_count": 169,
   "id": "f71bb174-246e-40f5-83af-618102e276f6",
   "metadata": {},
   "outputs": [],
   "source": [
    "## Init value b and array arr_b\n",
    "b = 0\n",
    "arr_b = []\n",
    "\n",
    "for i in arr:\n",
    "    for a in arr[::-1]:\n",
    "        if ((i[0] == a[1] and i[1] == a[0]) and i[2] != a[2]):\n",
    "            arr[b] = [a[1], a[0], a[2]]\n",
    "    b = b + 1"
   ]
  },
  {
   "cell_type": "code",
   "execution_count": 170,
   "id": "dcb489c2-4ead-464e-8b1d-a86256e4c4a6",
   "metadata": {},
   "outputs": [
    {
     "name": "stdout",
     "output_type": "stream",
     "text": [
      "18\n"
     ]
    },
    {
     "data": {
      "image/png": "[encoded data removed]",
      "text/plain": [
       "<Figure size 432x288 with 1 Axes>"
      ]
     },
     "metadata": {},
     "output_type": "display_data"
    }
   ],
   "source": [
    "ex = int((n / 2) - 1)\n",
    "\n",
    "G = nx.Graph()\n",
    "\n",
    "for i in node:\n",
    "    G.add_node(i)\n",
    "\n",
    "for d in arr:\n",
    "    if d[2] != 0 and d[2] <= ex:\n",
    "        G.add_edge(d[0], d[1])\n",
    "        \n",
    "print(G.number_of_edges())\n",
    "\n",
    "nx.draw(G, with_labels=True, font_color=\"white\")"
   ]
  },
  {
   "cell_type": "code",
   "execution_count": 173,
   "id": "e22f7a27-cc30-4e67-8458-e4080c6eab0a",
   "metadata": {},
   "outputs": [
    {
     "name": "stdout",
     "output_type": "stream",
     "text": [
      "[0]\n",
      "[0, 1]\n",
      "[0, 2]\n",
      "[0, 5, 3]\n",
      "[0, 4]\n",
      "[0, 5]\n",
      "[0, 2, 6]\n",
      "[0, 1, 7]\n",
      "[0, 8]\n",
      "[0, 1, 9]\n",
      "[1, 0]\n",
      "[1]\n",
      "[1, 2]\n",
      "[1, 5, 3]\n",
      "[1, 0, 4]\n",
      "[1, 5]\n",
      "[1, 2, 6]\n",
      "[1, 7]\n",
      "[1, 0, 8]\n",
      "[1, 9]\n",
      "[2, 0]\n",
      "[2, 1]\n",
      "[2]\n",
      "[2, 0, 5, 3]\n",
      "[2, 0, 4]\n",
      "[2, 0, 5]\n",
      "[2, 6]\n",
      "[2, 1, 7]\n",
      "[2, 0, 8]\n",
      "[2, 1, 9]\n",
      "[3, 5, 0]\n",
      "[3, 5, 1]\n",
      "[3, 5, 0, 2]\n",
      "[3]\n",
      "[3, 5, 0, 4]\n",
      "[3, 5]\n",
      "[3, 7, 6]\n",
      "[3, 7]\n",
      "[3, 5, 8]\n",
      "[3, 9]\n",
      "[4, 0]\n",
      "[4, 0, 1]\n",
      "[4, 0, 2]\n",
      "[4, 0, 5, 3]\n",
      "[4]\n",
      "[4, 0, 5]\n",
      "[4, 6]\n",
      "[4, 6, 7]\n",
      "[4, 8]\n",
      "[4, 8, 9]\n",
      "[5, 0]\n",
      "[5, 1]\n",
      "[5, 0, 2]\n",
      "[5, 3]\n",
      "[5, 0, 4]\n",
      "[5]\n",
      "[5, 0, 2, 6]\n",
      "[5, 1, 7]\n",
      "[5, 8]\n",
      "[5, 1, 9]\n",
      "[6, 2, 0]\n",
      "[6, 2, 1]\n",
      "[6, 2]\n",
      "[6, 7, 3]\n",
      "[6, 4]\n",
      "[6, 2, 0, 5]\n",
      "[6]\n",
      "[6, 7]\n",
      "[6, 4, 8]\n",
      "[6, 2, 1, 9]\n",
      "[7, 1, 0]\n",
      "[7, 1]\n",
      "[7, 1, 2]\n",
      "[7, 3]\n",
      "[7, 6, 4]\n",
      "[7, 1, 5]\n",
      "[7, 6]\n",
      "[7]\n",
      "[7, 1, 0, 8]\n",
      "[7, 1, 9]\n",
      "[8, 0]\n",
      "[8, 0, 1]\n",
      "[8, 0, 2]\n",
      "[8, 5, 3]\n",
      "[8, 4]\n",
      "[8, 5]\n",
      "[8, 4, 6]\n",
      "[8, 0, 1, 7]\n",
      "[8]\n",
      "[8, 9]\n",
      "[9, 1, 0]\n",
      "[9, 1]\n",
      "[9, 1, 2]\n",
      "[9, 3]\n",
      "[9, 8, 4]\n",
      "[9, 1, 5]\n",
      "[9, 1, 2, 6]\n",
      "[9, 1, 7]\n",
      "[9, 8]\n",
      "[9]\n"
     ]
    }
   ],
   "source": [
    "for a in arr:\n",
    "    print(nx.dijkstra_path(G, a[0], a[1], weight='weight'))\n"
   ]
  },
  {
   "cell_type": "code",
   "execution_count": 171,
   "id": "f4957c5f-dae4-436f-9a4f-7dc9c5e91088",
   "metadata": {},
   "outputs": [
    {
     "name": "stdin",
     "output_type": "stream",
     "text": [
      "Digite a origem:  0\n",
      "Digite a destino:  2\n"
     ]
    },
    {
     "name": "stdout",
     "output_type": "stream",
     "text": [
      "[0, 2]\n"
     ]
    }
   ],
   "source": [
    "origem = int(input(\"Digite a origem: \"))\n",
    "destino = int(input(\"Digite a destino: \"))\n",
    "\n",
    "if ((origem >= 0 and origem <= n) and (destino > 0 and destino <= n)):\n",
    "    print(nx.dijkstra_path(G, origem, destino, weight='weight'))\n",
    "else:\n",
    "    print(\"Digite o valor correto!\")"
   ]
  },
  {
   "cell_type": "code",
   "execution_count": null,
   "id": "5f54819d-3c40-4092-a191-16eb942843f7",
   "metadata": {},
   "outputs": [],
   "source": []
  }
 ],
 "metadata": {
  "kernelspec": {
   "display_name": "Python 3 (ipykernel)",
   "language": "python",
   "name": "python3"
  },
  "language_info": {
   "codemirror_mode": {
    "name": "ipython",
    "version": 3
   },
   "file_extension": ".py",
   "mimetype": "text/x-python",
   "name": "python",
   "nbconvert_exporter": "python",
   "pygments_lexer": "ipython3",
   "version": "3.8.10"
  }
 },
 "nbformat": 4,
 "nbformat_minor": 5
}
