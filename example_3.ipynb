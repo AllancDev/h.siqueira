{
 "cells": [
  {
   "cell_type": "code",
   "execution_count": 122,
   "id": "82b45329-2635-479a-8be9-fb800249b29d",
   "metadata": {},
   "outputs": [],
   "source": [
    "## Import libs\n",
    "import networkx as nx\n",
    "import random\n",
    "import time"
   ]
  },
  {
   "cell_type": "code",
   "execution_count": 264,
   "id": "76946379-8788-4876-ac0d-1d6bc11c0cc0",
   "metadata": {},
   "outputs": [
    {
     "name": "stdin",
     "output_type": "stream",
     "text": [
      "Digite a quantidade de nós: 5\n"
     ]
    },
    {
     "name": "stdout",
     "output_type": "stream",
     "text": [
      "range(0, 5)\n"
     ]
    }
   ],
   "source": [
    "## Define number\n",
    "n = int(input(\"Digite a quantidade de nós:\"))\n",
    "\n",
    "node = range(0, n)"
   ]
  },
  {
   "cell_type": "code",
   "execution_count": 259,
   "id": "dcb489c2-4ead-464e-8b1d-a86256e4c4a6",
   "metadata": {},
   "outputs": [],
   "source": [
    "def generate_graph(validated = True):\n",
    "    \n",
    "    ## Set Array\n",
    "    arr = []\n",
    "\n",
    "    for i in node:\n",
    "        for a in node:\n",
    "            if i == a:\n",
    "                arr.append([i, a, 0])\n",
    "            else: \n",
    "                arr.append([i, a, random.randint(1, n)])\n",
    "    \n",
    "    ## Init value b and array arr_b\n",
    "    b = 0\n",
    "\n",
    "    for i in arr:\n",
    "        for a in arr[::-1]:\n",
    "            if ((i[0] == a[1] and i[1] == a[0]) and i[2] != a[2]):\n",
    "                arr[b] = [a[1], a[0], a[2]]\n",
    "        b = b + 1\n",
    "    \n",
    "    \n",
    "    if validated == True:\n",
    "        b = 0\n",
    "\n",
    "        for a in arr:\n",
    "            val = random.randint(1, n)\n",
    "            if a[2] != 0:\n",
    "                arr[b] = [a[0], a[1], a[2] * val]\n",
    "            \n",
    "            b = b + 1\n",
    "                \n",
    "    ex = int((n / 2) - 1)\n",
    "\n",
    "    G = nx.Graph()\n",
    "    start = random.randint(0, n)\n",
    "        \n",
    "    for i in node:\n",
    "        G.add_node(i)\n",
    "    \n",
    "    for d in arr:\n",
    "        if d[2] != 0 and d[2] <= ex:\n",
    "            G.add_edge(d[0], d[1], weight=d[2])\n",
    "\n",
    "    print(G.number_of_edges())\n",
    "\n",
    "    nx.draw(G, with_labels=True, font_color=\"white\")\n",
    "            \n",
    "    for a in arr:\n",
    "        try:        \n",
    "             print(f\"{nx.dijkstra_path(G, a[0], a[1], weight='weight')}, Peso: {a[2]}\" )\n",
    "        except:\n",
    "             print(f'A distancia entre os nós {a[0]} e {a[1]} não atende a premissa de distancia.')"
   ]
  },
  {
   "cell_type": "code",
   "execution_count": 262,
   "id": "3591452f-bd57-4e5d-a452-ab2b39ebedd8",
   "metadata": {},
   "outputs": [
    {
     "name": "stdout",
     "output_type": "stream",
     "text": [
      "3\n",
      "[0], Peso: 0\n",
      "A distancia entre os nós 0 e 1 não atende a premissa de distancia.\n",
      "A distancia entre os nós 0 e 2 não atende a premissa de distancia.\n",
      "[0, 5, 3], Peso: 12\n",
      "A distancia entre os nós 0 e 4 não atende a premissa de distancia.\n",
      "[0, 5], Peso: 1\n",
      "[0, 5, 6], Peso: 8\n",
      "A distancia entre os nós 1 e 0 não atende a premissa de distancia.\n",
      "[1], Peso: 0\n",
      "A distancia entre os nós 1 e 2 não atende a premissa de distancia.\n",
      "A distancia entre os nós 1 e 3 não atende a premissa de distancia.\n",
      "A distancia entre os nós 1 e 4 não atende a premissa de distancia.\n",
      "A distancia entre os nós 1 e 5 não atende a premissa de distancia.\n",
      "A distancia entre os nós 1 e 6 não atende a premissa de distancia.\n",
      "A distancia entre os nós 2 e 0 não atende a premissa de distancia.\n",
      "A distancia entre os nós 2 e 1 não atende a premissa de distancia.\n",
      "[2], Peso: 0\n",
      "A distancia entre os nós 2 e 3 não atende a premissa de distancia.\n",
      "A distancia entre os nós 2 e 4 não atende a premissa de distancia.\n",
      "A distancia entre os nós 2 e 5 não atende a premissa de distancia.\n",
      "A distancia entre os nós 2 e 6 não atende a premissa de distancia.\n",
      "[3, 5, 0], Peso: 24\n",
      "A distancia entre os nós 3 e 1 não atende a premissa de distancia.\n",
      "A distancia entre os nós 3 e 2 não atende a premissa de distancia.\n",
      "[3], Peso: 0\n",
      "A distancia entre os nós 3 e 4 não atende a premissa de distancia.\n",
      "[3, 5], Peso: 7\n",
      "[3, 5, 6], Peso: 42\n",
      "A distancia entre os nós 4 e 0 não atende a premissa de distancia.\n",
      "A distancia entre os nós 4 e 1 não atende a premissa de distancia.\n",
      "A distancia entre os nós 4 e 2 não atende a premissa de distancia.\n",
      "A distancia entre os nós 4 e 3 não atende a premissa de distancia.\n",
      "[4], Peso: 0\n",
      "A distancia entre os nós 4 e 5 não atende a premissa de distancia.\n",
      "A distancia entre os nós 4 e 6 não atende a premissa de distancia.\n",
      "[5, 0], Peso: 1\n",
      "A distancia entre os nós 5 e 1 não atende a premissa de distancia.\n",
      "A distancia entre os nós 5 e 2 não atende a premissa de distancia.\n",
      "[5, 3], Peso: 1\n",
      "A distancia entre os nós 5 e 4 não atende a premissa de distancia.\n",
      "[5], Peso: 0\n",
      "[5, 6], Peso: 4\n",
      "[6, 5, 0], Peso: 4\n",
      "A distancia entre os nós 6 e 1 não atende a premissa de distancia.\n",
      "A distancia entre os nós 6 e 2 não atende a premissa de distancia.\n",
      "[6, 5, 3], Peso: 35\n",
      "A distancia entre os nós 6 e 4 não atende a premissa de distancia.\n",
      "[6, 5], Peso: 1\n",
      "[6], Peso: 0\n"
     ]
    },
    {
     "data": {
      "image/png": "[encoded data removed]",
      "text/plain": [
       "<Figure size 432x288 with 1 Axes>"
      ]
     },
     "metadata": {},
     "output_type": "display_data"
    }
   ],
   "source": [
    "generate_graph()"
   ]
  },
  {
   "cell_type": "code",
   "execution_count": 263,
   "id": "bf0c7eb2-2608-453e-99ec-c234c46966aa",
   "metadata": {},
   "outputs": [
    {
     "name": "stdout",
     "output_type": "stream",
     "text": [
      "5\n",
      "[0], Peso: 0\n",
      "[0, 5, 6, 1], Peso: 6\n",
      "[0, 5, 6, 1, 2], Peso: 6\n",
      "[0, 5, 6, 1, 3], Peso: 6\n",
      "A distancia entre os nós 0 e 4 não atende a premissa de distancia.\n",
      "[0, 5], Peso: 1\n",
      "[0, 5, 6], Peso: 7\n",
      "[1, 6, 5, 0], Peso: 6\n",
      "[1], Peso: 0\n",
      "[1, 2], Peso: 2\n",
      "[1, 3], Peso: 2\n",
      "A distancia entre os nós 1 e 4 não atende a premissa de distancia.\n",
      "[1, 6, 5], Peso: 7\n",
      "[1, 6], Peso: 1\n",
      "[2, 1, 6, 5, 0], Peso: 6\n",
      "[2, 1], Peso: 2\n",
      "[2], Peso: 0\n",
      "[2, 1, 3], Peso: 5\n",
      "A distancia entre os nós 2 e 4 não atende a premissa de distancia.\n",
      "[2, 1, 6, 5], Peso: 5\n",
      "[2, 1, 6], Peso: 6\n",
      "[3, 1, 6, 5, 0], Peso: 6\n",
      "[3, 1], Peso: 2\n",
      "[3, 1, 2], Peso: 5\n",
      "[3], Peso: 0\n",
      "A distancia entre os nós 3 e 4 não atende a premissa de distancia.\n",
      "[3, 1, 6, 5], Peso: 4\n",
      "[3, 1, 6], Peso: 3\n",
      "A distancia entre os nós 4 e 0 não atende a premissa de distancia.\n",
      "A distancia entre os nós 4 e 1 não atende a premissa de distancia.\n",
      "A distancia entre os nós 4 e 2 não atende a premissa de distancia.\n",
      "A distancia entre os nós 4 e 3 não atende a premissa de distancia.\n",
      "[4], Peso: 0\n",
      "A distancia entre os nós 4 e 5 não atende a premissa de distancia.\n",
      "A distancia entre os nós 4 e 6 não atende a premissa de distancia.\n",
      "[5, 0], Peso: 1\n",
      "[5, 6, 1], Peso: 7\n",
      "[5, 6, 1, 2], Peso: 5\n",
      "[5, 6, 1, 3], Peso: 4\n",
      "A distancia entre os nós 5 e 4 não atende a premissa de distancia.\n",
      "[5], Peso: 0\n",
      "[5, 6], Peso: 1\n",
      "[6, 5, 0], Peso: 7\n",
      "[6, 1], Peso: 1\n",
      "[6, 1, 2], Peso: 6\n",
      "[6, 1, 3], Peso: 3\n",
      "A distancia entre os nós 6 e 4 não atende a premissa de distancia.\n",
      "[6, 5], Peso: 1\n",
      "[6], Peso: 0\n"
     ]
    },
    {
     "data": {
      "image/png": "[encoded data removed]",
      "text/plain": [
       "<Figure size 432x288 with 1 Axes>"
      ]
     },
     "metadata": {},
     "output_type": "display_data"
    }
   ],
   "source": [
    "generate_graph(False)"
   ]
  },
  {
   "cell_type": "code",
   "execution_count": 57,
   "id": "f4957c5f-dae4-436f-9a4f-7dc9c5e91088",
   "metadata": {},
   "outputs": [
    {
     "ename": "KeyboardInterrupt",
     "evalue": "Interrupted by user",
     "output_type": "error",
     "traceback": [
      "\u001b[0;31m---------------------------------------------------------------------------\u001b[0m",
      "\u001b[0;31mKeyboardInterrupt\u001b[0m                         Traceback (most recent call last)",
      "Input \u001b[0;32mIn [57]\u001b[0m, in \u001b[0;36m<cell line: 1>\u001b[0;34m()\u001b[0m\n\u001b[0;32m----> 1\u001b[0m origem \u001b[38;5;241m=\u001b[39m \u001b[38;5;28mint\u001b[39m(\u001b[38;5;28;43minput\u001b[39;49m\u001b[43m(\u001b[49m\u001b[38;5;124;43m\"\u001b[39;49m\u001b[38;5;124;43mDigite a origem: \u001b[39;49m\u001b[38;5;124;43m\"\u001b[39;49m\u001b[43m)\u001b[49m)\n\u001b[1;32m      2\u001b[0m destino \u001b[38;5;241m=\u001b[39m \u001b[38;5;28mint\u001b[39m(\u001b[38;5;28minput\u001b[39m(\u001b[38;5;124m\"\u001b[39m\u001b[38;5;124mDigite a destino: \u001b[39m\u001b[38;5;124m\"\u001b[39m))\n\u001b[1;32m      4\u001b[0m \u001b[38;5;28;01mif\u001b[39;00m ((origem \u001b[38;5;241m>\u001b[39m\u001b[38;5;241m=\u001b[39m \u001b[38;5;241m0\u001b[39m \u001b[38;5;129;01mand\u001b[39;00m origem \u001b[38;5;241m<\u001b[39m\u001b[38;5;241m=\u001b[39m n) \u001b[38;5;129;01mand\u001b[39;00m (destino \u001b[38;5;241m>\u001b[39m \u001b[38;5;241m0\u001b[39m \u001b[38;5;129;01mand\u001b[39;00m destino \u001b[38;5;241m<\u001b[39m\u001b[38;5;241m=\u001b[39m n)):\n",
      "File \u001b[0;32m~/workspace/h.siqueira/.venv/lib/python3.8/site-packages/ipykernel/kernelbase.py:1177\u001b[0m, in \u001b[0;36mKernel.raw_input\u001b[0;34m(self, prompt)\u001b[0m\n\u001b[1;32m   1173\u001b[0m \u001b[38;5;28;01mif\u001b[39;00m \u001b[38;5;129;01mnot\u001b[39;00m \u001b[38;5;28mself\u001b[39m\u001b[38;5;241m.\u001b[39m_allow_stdin:\n\u001b[1;32m   1174\u001b[0m     \u001b[38;5;28;01mraise\u001b[39;00m StdinNotImplementedError(\n\u001b[1;32m   1175\u001b[0m         \u001b[38;5;124m\"\u001b[39m\u001b[38;5;124mraw_input was called, but this frontend does not support input requests.\u001b[39m\u001b[38;5;124m\"\u001b[39m\n\u001b[1;32m   1176\u001b[0m     )\n\u001b[0;32m-> 1177\u001b[0m \u001b[38;5;28;01mreturn\u001b[39;00m \u001b[38;5;28;43mself\u001b[39;49m\u001b[38;5;241;43m.\u001b[39;49m\u001b[43m_input_request\u001b[49m\u001b[43m(\u001b[49m\n\u001b[1;32m   1178\u001b[0m \u001b[43m    \u001b[49m\u001b[38;5;28;43mstr\u001b[39;49m\u001b[43m(\u001b[49m\u001b[43mprompt\u001b[49m\u001b[43m)\u001b[49m\u001b[43m,\u001b[49m\n\u001b[1;32m   1179\u001b[0m \u001b[43m    \u001b[49m\u001b[38;5;28;43mself\u001b[39;49m\u001b[38;5;241;43m.\u001b[39;49m\u001b[43m_parent_ident\u001b[49m\u001b[43m[\u001b[49m\u001b[38;5;124;43m\"\u001b[39;49m\u001b[38;5;124;43mshell\u001b[39;49m\u001b[38;5;124;43m\"\u001b[39;49m\u001b[43m]\u001b[49m\u001b[43m,\u001b[49m\n\u001b[1;32m   1180\u001b[0m \u001b[43m    \u001b[49m\u001b[38;5;28;43mself\u001b[39;49m\u001b[38;5;241;43m.\u001b[39;49m\u001b[43mget_parent\u001b[49m\u001b[43m(\u001b[49m\u001b[38;5;124;43m\"\u001b[39;49m\u001b[38;5;124;43mshell\u001b[39;49m\u001b[38;5;124;43m\"\u001b[39;49m\u001b[43m)\u001b[49m\u001b[43m,\u001b[49m\n\u001b[1;32m   1181\u001b[0m \u001b[43m    \u001b[49m\u001b[43mpassword\u001b[49m\u001b[38;5;241;43m=\u001b[39;49m\u001b[38;5;28;43;01mFalse\u001b[39;49;00m\u001b[43m,\u001b[49m\n\u001b[1;32m   1182\u001b[0m \u001b[43m\u001b[49m\u001b[43m)\u001b[49m\n",
      "File \u001b[0;32m~/workspace/h.siqueira/.venv/lib/python3.8/site-packages/ipykernel/kernelbase.py:1219\u001b[0m, in \u001b[0;36mKernel._input_request\u001b[0;34m(self, prompt, ident, parent, password)\u001b[0m\n\u001b[1;32m   1216\u001b[0m             \u001b[38;5;28;01mbreak\u001b[39;00m\n\u001b[1;32m   1217\u001b[0m \u001b[38;5;28;01mexcept\u001b[39;00m \u001b[38;5;167;01mKeyboardInterrupt\u001b[39;00m:\n\u001b[1;32m   1218\u001b[0m     \u001b[38;5;66;03m# re-raise KeyboardInterrupt, to truncate traceback\u001b[39;00m\n\u001b[0;32m-> 1219\u001b[0m     \u001b[38;5;28;01mraise\u001b[39;00m \u001b[38;5;167;01mKeyboardInterrupt\u001b[39;00m(\u001b[38;5;124m\"\u001b[39m\u001b[38;5;124mInterrupted by user\u001b[39m\u001b[38;5;124m\"\u001b[39m) \u001b[38;5;28;01mfrom\u001b[39;00m \u001b[38;5;28mNone\u001b[39m\n\u001b[1;32m   1220\u001b[0m \u001b[38;5;28;01mexcept\u001b[39;00m \u001b[38;5;167;01mException\u001b[39;00m:\n\u001b[1;32m   1221\u001b[0m     \u001b[38;5;28mself\u001b[39m\u001b[38;5;241m.\u001b[39mlog\u001b[38;5;241m.\u001b[39mwarning(\u001b[38;5;124m\"\u001b[39m\u001b[38;5;124mInvalid Message:\u001b[39m\u001b[38;5;124m\"\u001b[39m, exc_info\u001b[38;5;241m=\u001b[39m\u001b[38;5;28;01mTrue\u001b[39;00m)\n",
      "\u001b[0;31mKeyboardInterrupt\u001b[0m: Interrupted by user"
     ]
    }
   ],
   "source": [
    "origem = int(input(\"Digite a origem: \"))\n",
    "destino = int(input(\"Digite a destino: \"))\n",
    "\n",
    "if ((origem >= 0 and origem <= n) and (destino > 0 and destino <= n)):\n",
    "    print(nx.dijkstra_path(G, origem, destino, weight='weight'))\n",
    "else:\n",
    "    print(\"Digite o valor correto!\")"
   ]
  },
  {
   "cell_type": "code",
   "execution_count": null,
   "id": "b332a574-e38a-4648-a908-9b3c477fbac4",
   "metadata": {},
   "outputs": [],
   "source": []
  }
 ],
 "metadata": {
  "kernelspec": {
   "display_name": "Python 3 (ipykernel)",
   "language": "python",
   "name": "python3"
  },
  "language_info": {
   "codemirror_mode": {
    "name": "ipython",
    "version": 3
   },
   "file_extension": ".py",
   "mimetype": "text/x-python",
   "name": "python",
   "nbconvert_exporter": "python",
   "pygments_lexer": "ipython3",
   "version": "3.8.10"
  }
 },
 "nbformat": 4,
 "nbformat_minor": 5
}
