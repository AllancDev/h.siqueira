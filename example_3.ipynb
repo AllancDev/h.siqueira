{
 "cells": [
  {
   "cell_type": "code",
   "execution_count": 179,
   "id": "82b45329-2635-479a-8be9-fb800249b29d",
   "metadata": {},
   "outputs": [],
   "source": [
    "## Import libs\n",
    "import networkx as nx\n",
    "import random\n",
    "import time"
   ]
  },
  {
   "cell_type": "code",
   "execution_count": 210,
   "id": "76946379-8788-4876-ac0d-1d6bc11c0cc0",
   "metadata": {},
   "outputs": [
    {
     "name": "stdin",
     "output_type": "stream",
     "text": [
      "Digite a quantidade de nós: 8\n"
     ]
    }
   ],
   "source": [
    "## Define number\n",
    "n = int(input(\"Digite a quantidade de nós:\"))\n",
    "\n",
    "node = range(0, n)"
   ]
  },
  {
   "cell_type": "code",
   "execution_count": 211,
   "id": "cc0acbde-763c-4e1b-97e8-b3deff26b440",
   "metadata": {},
   "outputs": [],
   "source": [
    "## Set Array\n",
    "arr = []\n",
    "\n",
    "for i in node:\n",
    "    for a in node:\n",
    "        if i == a:\n",
    "            arr.append([i, a, 0])\n",
    "        else: \n",
    "            arr.append([i, a, random.randint(1, n)])"
   ]
  },
  {
   "cell_type": "code",
   "execution_count": 212,
   "id": "f71bb174-246e-40f5-83af-618102e276f6",
   "metadata": {},
   "outputs": [],
   "source": [
    "## Init value b and array arr_b\n",
    "b = 0\n",
    "arr_b = []\n",
    "\n",
    "for i in arr:\n",
    "    for a in arr[::-1]:\n",
    "        if ((i[0] == a[1] and i[1] == a[0]) and i[2] != a[2]):\n",
    "            arr[b] = [a[1], a[0], a[2]]\n",
    "    b = b + 1"
   ]
  },
  {
   "cell_type": "code",
   "execution_count": 225,
   "id": "dcb489c2-4ead-464e-8b1d-a86256e4c4a6",
   "metadata": {},
   "outputs": [],
   "source": [
    "def generate_graph(validated = True):\n",
    "    ex = int((n / 2) - 1)\n",
    "\n",
    "    G = nx.Graph()\n",
    "\n",
    "    for i in node:\n",
    "        G.add_node(i)\n",
    "    \n",
    "    for d in arr:\n",
    "        total = start + random.randint(1,ex)\n",
    "        \n",
    "        if validated:\n",
    "            if d[2] != 0 and d[2] <= ex:\n",
    "                G.add_edge(d[0], d[1], weight=d[2] + total)\n",
    "        else:\n",
    "            if d[2] != 0  and d[2] <= ex:\n",
    "                G.add_edge(d[0], d[1], weight=d[2])\n",
    "        \n",
    "\n",
    "    print(G.number_of_edges())\n",
    "\n",
    "    nx.draw(G, with_labels=True, font_color=\"white\")\n",
    "    \n",
    "    for a in arr:\n",
    "        try: \n",
    "            print(f\"{nx.dijkstra_path(G, a[0], a[1], weight='weight')}, Peso: {a[2]}\" )\n",
    "        except:\n",
    "            print(f'A distancia entre os nós {a[0]} e {a[1]} não atende a premissa de distancia.')"
   ]
  },
  {
   "cell_type": "code",
   "execution_count": 226,
   "id": "3591452f-bd57-4e5d-a452-ab2b39ebedd8",
   "metadata": {},
   "outputs": [
    {
     "name": "stdout",
     "output_type": "stream",
     "text": [
      "8\n",
      "[0], Peso: 0\n",
      "[0, 2, 5, 1], Peso: 8\n",
      "[0, 2], Peso: 2\n",
      "[0, 2, 3], Peso: 6\n",
      "[0, 4], Peso: 1\n",
      "[0, 2, 5], Peso: 4\n",
      "[0, 2, 3, 7, 6], Peso: 7\n",
      "[0, 2, 3, 7], Peso: 8\n",
      "[1, 5, 2, 0], Peso: 8\n",
      "[1], Peso: 0\n",
      "[1, 5, 2], Peso: 4\n",
      "[1, 5, 3], Peso: 5\n",
      "[1, 5, 2, 0, 4], Peso: 8\n",
      "[1, 5], Peso: 2\n",
      "[1, 5, 3, 7, 6], Peso: 7\n",
      "[1, 5, 3, 7], Peso: 8\n",
      "[2, 0], Peso: 2\n",
      "[2, 5, 1], Peso: 4\n",
      "[2], Peso: 0\n",
      "[2, 3], Peso: 2\n",
      "[2, 0, 4], Peso: 8\n",
      "[2, 5], Peso: 2\n",
      "[2, 3, 7, 6], Peso: 8\n",
      "[2, 3, 7], Peso: 7\n",
      "[3, 2, 0], Peso: 6\n",
      "[3, 5, 1], Peso: 5\n",
      "[3, 2], Peso: 2\n",
      "[3], Peso: 0\n",
      "[3, 2, 0, 4], Peso: 7\n",
      "[3, 5], Peso: 3\n",
      "[3, 7, 6], Peso: 7\n",
      "[3, 7], Peso: 2\n",
      "[4, 0], Peso: 1\n",
      "[4, 0, 2, 5, 1], Peso: 8\n",
      "[4, 0, 2], Peso: 8\n",
      "[4, 0, 2, 3], Peso: 7\n",
      "[4], Peso: 0\n",
      "[4, 0, 2, 5], Peso: 7\n",
      "[4, 0, 2, 3, 7, 6], Peso: 7\n",
      "[4, 0, 2, 3, 7], Peso: 7\n",
      "[5, 2, 0], Peso: 4\n",
      "[5, 1], Peso: 2\n",
      "[5, 2], Peso: 2\n",
      "[5, 3], Peso: 3\n",
      "[5, 2, 0, 4], Peso: 7\n",
      "[5], Peso: 0\n",
      "[5, 3, 7, 6], Peso: 6\n",
      "[5, 3, 7], Peso: 6\n",
      "[6, 7, 3, 2, 0], Peso: 7\n",
      "[6, 7, 3, 5, 1], Peso: 7\n",
      "[6, 7, 3, 2], Peso: 8\n",
      "[6, 7, 3], Peso: 7\n",
      "[6, 7, 3, 2, 0, 4], Peso: 7\n",
      "[6, 7, 3, 5], Peso: 6\n",
      "[6], Peso: 0\n",
      "[6, 7], Peso: 1\n",
      "[7, 3, 2, 0], Peso: 8\n",
      "[7, 3, 5, 1], Peso: 8\n",
      "[7, 3, 2], Peso: 7\n",
      "[7, 3], Peso: 2\n",
      "[7, 3, 2, 0, 4], Peso: 7\n",
      "[7, 3, 5], Peso: 6\n",
      "[7, 6], Peso: 1\n",
      "[7], Peso: 0\n"
     ]
    },
    {
     "data": {
      "image/png": "[encoded data removed]",
      "text/plain": [
       "<Figure size 432x288 with 1 Axes>"
      ]
     },
     "metadata": {},
     "output_type": "display_data"
    }
   ],
   "source": [
    "generate_graph()"
   ]
  },
  {
   "cell_type": "code",
   "execution_count": 227,
   "id": "bf0c7eb2-2608-453e-99ec-c234c46966aa",
   "metadata": {},
   "outputs": [
    {
     "name": "stdout",
     "output_type": "stream",
     "text": [
      "8\n",
      "[0], Peso: 0\n",
      "[0, 2, 5, 1], Peso: 8\n",
      "[0, 2], Peso: 2\n",
      "[0, 2, 3], Peso: 6\n",
      "[0, 4], Peso: 1\n",
      "[0, 2, 5], Peso: 4\n",
      "[0, 2, 3, 7, 6], Peso: 7\n",
      "[0, 2, 3, 7], Peso: 8\n",
      "[1, 5, 2, 0], Peso: 8\n",
      "[1], Peso: 0\n",
      "[1, 5, 2], Peso: 4\n",
      "[1, 5, 3], Peso: 5\n",
      "[1, 5, 2, 0, 4], Peso: 8\n",
      "[1, 5], Peso: 2\n",
      "[1, 5, 3, 7, 6], Peso: 7\n",
      "[1, 5, 3, 7], Peso: 8\n",
      "[2, 0], Peso: 2\n",
      "[2, 5, 1], Peso: 4\n",
      "[2], Peso: 0\n",
      "[2, 3], Peso: 2\n",
      "[2, 0, 4], Peso: 8\n",
      "[2, 5], Peso: 2\n",
      "[2, 3, 7, 6], Peso: 8\n",
      "[2, 3, 7], Peso: 7\n",
      "[3, 2, 0], Peso: 6\n",
      "[3, 5, 1], Peso: 5\n",
      "[3, 2], Peso: 2\n",
      "[3], Peso: 0\n",
      "[3, 2, 0, 4], Peso: 7\n",
      "[3, 5], Peso: 3\n",
      "[3, 7, 6], Peso: 7\n",
      "[3, 7], Peso: 2\n",
      "[4, 0], Peso: 1\n",
      "[4, 0, 2, 5, 1], Peso: 8\n",
      "[4, 0, 2], Peso: 8\n",
      "[4, 0, 2, 3], Peso: 7\n",
      "[4], Peso: 0\n",
      "[4, 0, 2, 5], Peso: 7\n",
      "[4, 0, 2, 3, 7, 6], Peso: 7\n",
      "[4, 0, 2, 3, 7], Peso: 7\n",
      "[5, 2, 0], Peso: 4\n",
      "[5, 1], Peso: 2\n",
      "[5, 2], Peso: 2\n",
      "[5, 3], Peso: 3\n",
      "[5, 2, 0, 4], Peso: 7\n",
      "[5], Peso: 0\n",
      "[5, 3, 7, 6], Peso: 6\n",
      "[5, 3, 7], Peso: 6\n",
      "[6, 7, 3, 2, 0], Peso: 7\n",
      "[6, 7, 3, 5, 1], Peso: 7\n",
      "[6, 7, 3, 2], Peso: 8\n",
      "[6, 7, 3], Peso: 7\n",
      "[6, 7, 3, 2, 0, 4], Peso: 7\n",
      "[6, 7, 3, 5], Peso: 6\n",
      "[6], Peso: 0\n",
      "[6, 7], Peso: 1\n",
      "[7, 3, 2, 0], Peso: 8\n",
      "[7, 3, 5, 1], Peso: 8\n",
      "[7, 3, 2], Peso: 7\n",
      "[7, 3], Peso: 2\n",
      "[7, 3, 2, 0, 4], Peso: 7\n",
      "[7, 3, 5], Peso: 6\n",
      "[7, 6], Peso: 1\n",
      "[7], Peso: 0\n"
     ]
    },
    {
     "data": {
      "image/png": "[encoded data removed]",
      "text/plain": [
       "<Figure size 432x288 with 1 Axes>"
      ]
     },
     "metadata": {},
     "output_type": "display_data"
    }
   ],
   "source": [
    "generate_graph(False)"
   ]
  },
  {
   "cell_type": "code",
   "execution_count": 141,
   "id": "f4957c5f-dae4-436f-9a4f-7dc9c5e91088",
   "metadata": {},
   "outputs": [
    {
     "name": "stdin",
     "output_type": "stream",
     "text": [
      "Digite a origem:  0\n",
      "Digite a destino:  2\n"
     ]
    },
    {
     "name": "stdout",
     "output_type": "stream",
     "text": [
      "[0, 7, 2]\n"
     ]
    }
   ],
   "source": [
    "origem = int(input(\"Digite a origem: \"))\n",
    "destino = int(input(\"Digite a destino: \"))\n",
    "\n",
    "if ((origem >= 0 and origem <= n) and (destino > 0 and destino <= n)):\n",
    "    print(nx.dijkstra_path(G, origem, destino, weight='weight'))\n",
    "else:\n",
    "    print(\"Digite o valor correto!\")"
   ]
  },
  {
   "cell_type": "code",
   "execution_count": null,
   "id": "b332a574-e38a-4648-a908-9b3c477fbac4",
   "metadata": {},
   "outputs": [],
   "source": []
  }
 ],
 "metadata": {
  "kernelspec": {
   "display_name": "Python 3 (ipykernel)",
   "language": "python",
   "name": "python3"
  },
  "language_info": {
   "codemirror_mode": {
    "name": "ipython",
    "version": 3
   },
   "file_extension": ".py",
   "mimetype": "text/x-python",
   "name": "python",
   "nbconvert_exporter": "python",
   "pygments_lexer": "ipython3",
   "version": "3.8.10"
  }
 },
 "nbformat": 4,
 "nbformat_minor": 5
}
